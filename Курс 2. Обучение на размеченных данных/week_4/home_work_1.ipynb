{
 "cells": [
  {
   "cell_type": "code",
   "execution_count": 50,
   "metadata": {},
   "outputs": [],
   "source": [
    "import sklearn.datasets\n",
    "import numpy as np\n",
    "import pandas as pd\n",
    "from sklearn.model_selection import cross_val_score, learning_curve, GridSearchCV\n",
    "from sklearn.tree import DecisionTreeClassifier\n",
    "from sklearn.ensemble import BaggingClassifier, RandomForestClassifier"
   ]
  },
  {
   "cell_type": "code",
   "execution_count": 12,
   "metadata": {},
   "outputs": [],
   "source": [
    "digits = sklearn.datasets.load_digits()"
   ]
  },
  {
   "cell_type": "code",
   "execution_count": 13,
   "metadata": {},
   "outputs": [],
   "source": [
    "X = digits.data\n",
    "y = digits.target"
   ]
  },
  {
   "cell_type": "code",
   "execution_count": 15,
   "metadata": {},
   "outputs": [],
   "source": [
    "tree_clf = DecisionTreeClassifier()"
   ]
  },
  {
   "cell_type": "code",
   "execution_count": 16,
   "metadata": {},
   "outputs": [],
   "source": [
    "scores = cross_val_score(tree_clf, X, y, cv=10, n_jobs=-1)"
   ]
  },
  {
   "cell_type": "code",
   "execution_count": 18,
   "metadata": {},
   "outputs": [
    {
     "data": {
      "text/plain": [
       "0.831927374301676"
      ]
     },
     "execution_count": 18,
     "metadata": {},
     "output_type": "execute_result"
    }
   ],
   "source": [
    "scores.mean()"
   ]
  },
  {
   "cell_type": "code",
   "execution_count": 20,
   "metadata": {},
   "outputs": [],
   "source": [
    "bag_clf = BaggingClassifier(n_estimators=100)"
   ]
  },
  {
   "cell_type": "code",
   "execution_count": 21,
   "metadata": {},
   "outputs": [],
   "source": [
    "scores_bag = cross_val_score(bag_clf, X, y, cv=10, n_jobs=-1)"
   ]
  },
  {
   "cell_type": "code",
   "execution_count": 22,
   "metadata": {
    "scrolled": true
   },
   "outputs": [
    {
     "data": {
      "text/plain": [
       "0.9253941651148356"
      ]
     },
     "execution_count": 22,
     "metadata": {},
     "output_type": "execute_result"
    }
   ],
   "source": [
    "scores_bag.mean()"
   ]
  },
  {
   "cell_type": "code",
   "execution_count": 39,
   "metadata": {},
   "outputs": [],
   "source": [
    "max_feat = np.sqrt(X.shape[1]).astype(int)\n",
    "bag_clf2 = BaggingClassifier(n_estimators=100, max_features=max_feat)"
   ]
  },
  {
   "cell_type": "code",
   "execution_count": 40,
   "metadata": {},
   "outputs": [],
   "source": [
    "scores_bag2 = cross_val_score(bag_clf2, X, y, cv=10, n_jobs=-1)"
   ]
  },
  {
   "cell_type": "code",
   "execution_count": 41,
   "metadata": {},
   "outputs": [
    {
     "data": {
      "text/plain": [
       "0.9287585350713844"
      ]
     },
     "execution_count": 41,
     "metadata": {},
     "output_type": "execute_result"
    }
   ],
   "source": [
    "scores_bag2.mean()"
   ]
  },
  {
   "cell_type": "code",
   "execution_count": 42,
   "metadata": {},
   "outputs": [],
   "source": [
    "max_feat = np.sqrt(X.shape[1]).astype(int)\n",
    "tree_clf = DecisionTreeClassifier(max_features=max_feat)\n",
    "bag_clf3 = BaggingClassifier(base_estimator=tree_clf, n_estimators=100)"
   ]
  },
  {
   "cell_type": "code",
   "execution_count": 43,
   "metadata": {},
   "outputs": [],
   "source": [
    "scores_bag3 = cross_val_score(bag_clf3, X, y, cv=10, n_jobs=-1)"
   ]
  },
  {
   "cell_type": "code",
   "execution_count": 44,
   "metadata": {},
   "outputs": [
    {
     "data": {
      "text/plain": [
       "0.9487895716945995"
      ]
     },
     "execution_count": 44,
     "metadata": {},
     "output_type": "execute_result"
    }
   ],
   "source": [
    "scores_bag3.mean()"
   ]
  },
  {
   "cell_type": "code",
   "execution_count": 46,
   "metadata": {},
   "outputs": [],
   "source": [
    "random_f_clf = RandomForestClassifier(n_estimators=100)"
   ]
  },
  {
   "cell_type": "code",
   "execution_count": 47,
   "metadata": {},
   "outputs": [],
   "source": [
    "scores_random_f = cross_val_score(random_f_clf, X, y, cv=10, n_jobs=-1)"
   ]
  },
  {
   "cell_type": "code",
   "execution_count": 48,
   "metadata": {},
   "outputs": [
    {
     "data": {
      "text/plain": [
       "0.951582867783985"
      ]
     },
     "execution_count": 48,
     "metadata": {},
     "output_type": "execute_result"
    }
   ],
   "source": [
    "scores_random_f.mean()"
   ]
  },
  {
   "cell_type": "code",
   "execution_count": 53,
   "metadata": {},
   "outputs": [
    {
     "name": "stdout",
     "output_type": "stream",
     "text": [
      "0.7356859093730603\n",
      "0.9549099937926753\n",
      "0.9482278088144008\n",
      "0.9493544382371197\n",
      "0.9504624456859092\n",
      "0.9499162011173183\n",
      "0.9482433271260085\n",
      "0.951576660459342\n",
      "0.9482371198013656\n",
      "0.9549130974549968\n"
     ]
    }
   ],
   "source": [
    "for trees in np.arange(1,500,50):\n",
    "    random_f_clf = RandomForestClassifier(n_estimators=trees)\n",
    "    print(cross_val_score(random_f_clf, X, y, cv=10, n_jobs=-1).mean())"
   ]
  },
  {
   "cell_type": "code",
   "execution_count": 55,
   "metadata": {},
   "outputs": [
    {
     "name": "stdout",
     "output_type": "stream",
     "text": [
      "0.8730943513345748\n",
      "0.9148572315332093\n",
      "0.929885164494103\n"
     ]
    }
   ],
   "source": [
    "for trees in np.arange(5,16,5):\n",
    "    random_f_clf = RandomForestClassifier(n_estimators=trees)\n",
    "    print(cross_val_score(random_f_clf, X, y, cv=10, n_jobs=-1).mean())"
   ]
  },
  {
   "cell_type": "code",
   "execution_count": 56,
   "metadata": {},
   "outputs": [
    {
     "name": "stdout",
     "output_type": "stream",
     "text": [
      "0.9515797641216635\n",
      "0.9415611421477342\n",
      "0.9476753569211669\n",
      "0.9437740533829919\n",
      "0.9437740533829919\n",
      "0.9415394165114834\n",
      "0.9437709497206702\n",
      "0.9359838609559279\n",
      "0.9387709497206703\n",
      "0.9320856610800744\n"
     ]
    }
   ],
   "source": [
    "for feat in np.arange(5,51,5):\n",
    "    random_f_clf = RandomForestClassifier(n_estimators=100, max_features=feat)\n",
    "    print(cross_val_score(random_f_clf, X, y, cv=10, n_jobs=-1).mean())"
   ]
  },
  {
   "cell_type": "code",
   "execution_count": 57,
   "metadata": {},
   "outputs": [
    {
     "name": "stdout",
     "output_type": "stream",
     "text": [
      "0.9103848541278708\n",
      "0.946576660459342\n",
      "0.9504748603351955\n",
      "0.9482495344506517\n",
      "0.9465704531346988\n",
      "0.9476784605834885\n",
      "0.9454531346989447\n",
      "0.9471291123525759\n",
      "0.9499099937926753\n",
      "0.9515859714463065\n",
      "0.9482340161390439\n",
      "0.9487957790192427\n",
      "0.9482464307883302\n",
      "0.9471322160148976\n",
      "0.9488081936685289\n",
      "0.9543358162631904\n",
      "0.9476908752327746\n",
      "0.950471756672874\n",
      "0.9487988826815641\n"
     ]
    }
   ],
   "source": [
    "for deep in np.arange(5,100,5):\n",
    "    random_f_clf = RandomForestClassifier(n_estimators=100, max_depth=deep)\n",
    "    print(cross_val_score(random_f_clf, X, y, cv=10, n_jobs=-1).mean())"
   ]
  },
  {
   "cell_type": "code",
   "execution_count": 58,
   "metadata": {},
   "outputs": [
    {
     "name": "stdout",
     "output_type": "stream",
     "text": [
      "0.9471260086902544\n"
     ]
    }
   ],
   "source": [
    "random_f_clf = RandomForestClassifier(n_estimators=100)\n",
    "print(cross_val_score(random_f_clf, X, y, cv=10, n_jobs=-1).mean())"
   ]
  },
  {
   "cell_type": "code",
   "execution_count": null,
   "metadata": {},
   "outputs": [],
   "source": []
  }
 ],
 "metadata": {
  "kernelspec": {
   "display_name": "Python 3",
   "language": "python",
   "name": "python3"
  },
  "language_info": {
   "codemirror_mode": {
    "name": "ipython",
    "version": 3
   },
   "file_extension": ".py",
   "mimetype": "text/x-python",
   "name": "python",
   "nbconvert_exporter": "python",
   "pygments_lexer": "ipython3",
   "version": "3.8.6"
  }
 },
 "nbformat": 4,
 "nbformat_minor": 4
}
