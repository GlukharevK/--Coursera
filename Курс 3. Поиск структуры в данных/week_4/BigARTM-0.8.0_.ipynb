{
 "cells": [
  {
   "cell_type": "markdown",
   "metadata": {},
   "source": [
    "# Пример использования библиотеки BigARTM для тематического моделирования\n",
    "## Для Bigartm v0.8.0\n",
    "### Редактировал Максим Чурилин"
   ]
  },
  {
   "cell_type": "markdown",
   "metadata": {},
   "source": [
    "Импортируем BigARTM:"
   ]
  },
  {
   "cell_type": "code",
   "execution_count": 1,
   "metadata": {},
   "outputs": [],
   "source": [
    "from matplotlib import pyplot as plt\n",
    "%matplotlib inline"
   ]
  },
  {
   "cell_type": "code",
   "execution_count": 2,
   "metadata": {},
   "outputs": [],
   "source": [
    "import artm"
   ]
  },
  {
   "cell_type": "markdown",
   "metadata": {},
   "source": [
    "Первое считывание данных (преобразуем удобный для человека формат в формат, который использует модель):"
   ]
  },
  {
   "cell_type": "code",
   "execution_count": 3,
   "metadata": {},
   "outputs": [
    {
     "name": "stderr",
     "output_type": "stream",
     "text": [
      "c:\\users\\glukh\\appdata\\local\\programs\\python\\python38\\lib\\site-packages\\ipykernel\\ipkernel.py:287: DeprecationWarning: `should_run_async` will not call `transform_cell` automatically in the future. Please pass the result to `transformed_cell` argument and any exception that happen during thetransform in `preprocessing_exc_tuple` in IPython 7.17 and above.\n",
      "  and should_run_async(code)\n"
     ]
    }
   ],
   "source": [
    "batch_vectorizer = artm.BatchVectorizer(data_path=\"school.txt\", data_format=\"vowpal_wabbit\", target_folder=\"school_batches\", \n",
    "                                       batch_size=100)"
   ]
  },
  {
   "cell_type": "markdown",
   "metadata": {},
   "source": [
    "В следующий раз данные можно считывать уже из батчей:"
   ]
  },
  {
   "cell_type": "code",
   "execution_count": 6,
   "metadata": {},
   "outputs": [],
   "source": [
    "batch_vectorizer = artm.BatchVectorizer(data_path=\"school_batches\", data_format='batches')"
   ]
  },
  {
   "cell_type": "markdown",
   "metadata": {},
   "source": [
    "Создаем объект модели:"
   ]
  },
  {
   "cell_type": "code",
   "execution_count": 118,
   "metadata": {},
   "outputs": [],
   "source": [
    "T = 10   # количество тем\n",
    "model_artm = artm.ARTM(num_topics=T, topic_names=[\"sbj\"+str(i) for i in range(T)], class_ids={\"text\":1}, \n",
    "                       num_document_passes=1, reuse_theta=True, cache_theta=True, seed=-1)\n",
    "# число после названия модальностей - это их веса"
   ]
  },
  {
   "cell_type": "markdown",
   "metadata": {},
   "source": [
    "Создаем словарь и инициализируем модель с его помощью"
   ]
  },
  {
   "cell_type": "code",
   "execution_count": 119,
   "metadata": {},
   "outputs": [],
   "source": [
    "dictionary = artm.Dictionary('dictionary')\n",
    "dictionary.gather(batch_vectorizer.data_path)"
   ]
  },
  {
   "cell_type": "code",
   "execution_count": 120,
   "metadata": {},
   "outputs": [],
   "source": [
    "model_artm.scores.add(artm.PerplexityScore(name='PerplexityScore',\n",
    "                                           dictionary='dictionary'), overwrite=True)\n",
    "model_artm.scores.add(artm.SparsityPhiScore(name='SparsityPhiScore', class_id=\"text\"), overwrite=True)\n",
    "model_artm.scores.add(artm.SparsityThetaScore(name='SparsityThetaScore'), overwrite=True)\n",
    "model_artm.scores.add(artm.TopTokensScore(name=\"top_words\", num_tokens=15, class_id=\"text\"), overwrite=True)"
   ]
  },
  {
   "cell_type": "code",
   "execution_count": 121,
   "metadata": {},
   "outputs": [],
   "source": [
    "model_artm.initialize('dictionary')"
   ]
  },
  {
   "cell_type": "markdown",
   "metadata": {},
   "source": [
    "Строим модель. Offline - проходит по всей коллекции много раз. Удобно, когда коллекция маленькая."
   ]
  },
  {
   "cell_type": "code",
   "execution_count": 122,
   "metadata": {},
   "outputs": [],
   "source": [
    "model_artm.fit_offline(batch_vectorizer=batch_vectorizer, num_collection_passes=40)"
   ]
  },
  {
   "cell_type": "markdown",
   "metadata": {},
   "source": [
    "Необходимое число итераций можно отслеживать по графику перплексии. Когда она перестала меняться, модель сошлась."
   ]
  },
  {
   "cell_type": "code",
   "execution_count": 64,
   "metadata": {},
   "outputs": [
    {
     "name": "stderr",
     "output_type": "stream",
     "text": [
      "c:\\users\\glukh\\appdata\\local\\programs\\python\\python38\\lib\\site-packages\\ipykernel\\ipkernel.py:287: DeprecationWarning: `should_run_async` will not call `transform_cell` automatically in the future. Please pass the result to `transformed_cell` argument and any exception that happen during thetransform in `preprocessing_exc_tuple` in IPython 7.17 and above.\n",
      "  and should_run_async(code)\n"
     ]
    },
    {
     "data": {
      "text/plain": [
       "[<matplotlib.lines.Line2D at 0x1eab3f84310>]"
      ]
     },
     "execution_count": 64,
     "metadata": {},
     "output_type": "execute_result"
    },
    {
     "data": {
      "image/png": "[encoded data removed]",
      "text/plain": [
       "<Figure size 432x288 with 1 Axes>"
      ]
     },
     "metadata": {
      "needs_background": "light"
     },
     "output_type": "display_data"
    }
   ],
   "source": [
    "plt.plot(model_artm.score_tracker[\"PerplexityScore\"].value)"
   ]
  },
  {
   "cell_type": "markdown",
   "metadata": {},
   "source": [
    "Выведем топы слов:"
   ]
  },
  {
   "cell_type": "code",
   "execution_count": 65,
   "metadata": {},
   "outputs": [
    {
     "name": "stdout",
     "output_type": "stream",
     "text": [
      "sbj0: \tкоторый быть что это человек этот как свой для они его весь такой время себя \n",
      "sbj1: \tвозведение a b множитель раскладывать x выражение умножение скобка разложение сокращенный квадрат ответ переменный целый \n",
      "sbj2: \tобособление куприн слово раскольников мастер роман словосочетание маргарита подчинительный соня оборот вера браслет старик сантьяго \n",
      "sbj3: \tкоторый быть год свой время государство человек мир становиться северный жизнь первый война африка ребенок \n",
      "sbj4: \tx a b уравнение дробь квадратный y степень функция число f решение корень c пример \n",
      "sbj5: \tбыть пушкин год функция свой его русский который поэт империя a культура весь f трение \n",
      "sbj6: \tсила быть тело энергия поле при магнитный точка географический наречие если частица например заряд величина \n",
      "sbj7: \tкоторый что это как человек для этот такой быть являться мочь себя она его свой \n",
      "sbj8: \tкоторый быть что это свой как этот человек для x они такой государство a весь \n",
      "sbj9: \tкоторый быть что этот это как человек свой для такой весь они его жизнь являться \n"
     ]
    }
   ],
   "source": [
    "for topic_name in model_artm.topic_names:\n",
    "    print(topic_name + ': ', end='\\t'),\n",
    "    tokens = model_artm.score_tracker[\"top_words\"].last_tokens\n",
    "    for word in tokens[topic_name]:    \n",
    "        print(word, end=' '),\n",
    "    print()"
   ]
  },
  {
   "cell_type": "markdown",
   "metadata": {},
   "source": [
    "Давайте посмотрим также на разреженность матриц:"
   ]
  },
  {
   "cell_type": "code",
   "execution_count": 66,
   "metadata": {},
   "outputs": [
    {
     "name": "stdout",
     "output_type": "stream",
     "text": [
      "0.7333747148513794\n",
      "0.1655462235212326\n"
     ]
    }
   ],
   "source": [
    "print(model_artm.score_tracker[\"SparsityPhiScore\"].last_value)\n",
    "print(model_artm.score_tracker[\"SparsityThetaScore\"].last_value)"
   ]
  },
  {
   "cell_type": "markdown",
   "metadata": {},
   "source": [
    "В темах много общеупотребительных слов (так называемой, фоновой лексики). Чтобы этого избежать, будем использовать разреживающий регуляризатор для матрицы фи. Он будет подавлять слова, которые имеют большую частоту во всей коллекции."
   ]
  },
  {
   "cell_type": "code",
   "execution_count": 123,
   "metadata": {},
   "outputs": [
    {
     "name": "stderr",
     "output_type": "stream",
     "text": [
      "c:\\users\\glukh\\appdata\\local\\programs\\python\\python38\\lib\\site-packages\\ipykernel\\ipkernel.py:287: DeprecationWarning: `should_run_async` will not call `transform_cell` automatically in the future. Please pass the result to `transformed_cell` argument and any exception that happen during thetransform in `preprocessing_exc_tuple` in IPython 7.17 and above.\n",
      "  and should_run_async(code)\n"
     ]
    }
   ],
   "source": [
    "model_artm.regularizers.add(artm.SmoothSparsePhiRegularizer(name='SparsePhi', tau=-10, dictionary=dictionary))\n",
    "#если вы хотите применять регуляризатор только к некоторым модальностям, указывайте это в параметре class_ids: class_ids=[\"text\"]"
   ]
  },
  {
   "cell_type": "code",
   "execution_count": 124,
   "metadata": {},
   "outputs": [],
   "source": [
    "model_artm.fit_offline(batch_vectorizer=batch_vectorizer, num_collection_passes=15)"
   ]
  },
  {
   "cell_type": "code",
   "execution_count": 69,
   "metadata": {},
   "outputs": [
    {
     "name": "stderr",
     "output_type": "stream",
     "text": [
      "c:\\users\\glukh\\appdata\\local\\programs\\python\\python38\\lib\\site-packages\\ipykernel\\ipkernel.py:287: DeprecationWarning: `should_run_async` will not call `transform_cell` automatically in the future. Please pass the result to `transformed_cell` argument and any exception that happen during thetransform in `preprocessing_exc_tuple` in IPython 7.17 and above.\n",
      "  and should_run_async(code)\n"
     ]
    },
    {
     "name": "stdout",
     "output_type": "stream",
     "text": [
      "sbj0: \t"
     ]
    },
    {
     "ename": "TypeError",
     "evalue": "'dict_items' object is not subscriptable",
     "output_type": "error",
     "traceback": [
      "\u001b[1;31m---------------------------------------------------------------------------\u001b[0m",
      "\u001b[1;31mTypeError\u001b[0m                                 Traceback (most recent call last)",
      "\u001b[1;32m<ipython-input-69-2320bade3c7b>\u001b[0m in \u001b[0;36m<module>\u001b[1;34m\u001b[0m\n\u001b[0;32m      2\u001b[0m     \u001b[0mprint\u001b[0m\u001b[1;33m(\u001b[0m\u001b[0mtopic_name\u001b[0m \u001b[1;33m+\u001b[0m \u001b[1;34m': '\u001b[0m\u001b[1;33m,\u001b[0m \u001b[0mend\u001b[0m\u001b[1;33m=\u001b[0m\u001b[1;34m'\\t'\u001b[0m\u001b[1;33m)\u001b[0m\u001b[1;33m,\u001b[0m\u001b[1;33m\u001b[0m\u001b[1;33m\u001b[0m\u001b[0m\n\u001b[0;32m      3\u001b[0m     \u001b[0mtokens\u001b[0m \u001b[1;33m=\u001b[0m \u001b[0mmodel_artm\u001b[0m\u001b[1;33m.\u001b[0m\u001b[0mscore_tracker\u001b[0m\u001b[1;33m[\u001b[0m\u001b[1;34m\"top_words\"\u001b[0m\u001b[1;33m]\u001b[0m\u001b[1;33m.\u001b[0m\u001b[0mlast_tokens\u001b[0m\u001b[1;33m.\u001b[0m\u001b[0mitems\u001b[0m\u001b[1;33m(\u001b[0m\u001b[1;33m)\u001b[0m\u001b[1;33m\u001b[0m\u001b[1;33m\u001b[0m\u001b[0m\n\u001b[1;32m----> 4\u001b[1;33m     \u001b[1;32mfor\u001b[0m \u001b[0mword\u001b[0m \u001b[1;32min\u001b[0m \u001b[0mtokens\u001b[0m\u001b[1;33m[\u001b[0m\u001b[0mtopic_name\u001b[0m\u001b[1;33m]\u001b[0m\u001b[1;33m:\u001b[0m\u001b[1;33m\u001b[0m\u001b[1;33m\u001b[0m\u001b[0m\n\u001b[0m\u001b[0;32m      5\u001b[0m         \u001b[0mprint\u001b[0m\u001b[1;33m(\u001b[0m\u001b[0mword\u001b[0m\u001b[1;33m,\u001b[0m \u001b[0mend\u001b[0m\u001b[1;33m=\u001b[0m\u001b[1;34m' '\u001b[0m\u001b[1;33m)\u001b[0m\u001b[1;33m,\u001b[0m\u001b[1;33m\u001b[0m\u001b[1;33m\u001b[0m\u001b[0m\n\u001b[0;32m      6\u001b[0m     \u001b[0mprint\u001b[0m\u001b[1;33m(\u001b[0m\u001b[1;33m)\u001b[0m\u001b[1;33m\u001b[0m\u001b[1;33m\u001b[0m\u001b[0m\n",
      "\u001b[1;31mTypeError\u001b[0m: 'dict_items' object is not subscriptable"
     ]
    }
   ],
   "source": [
    "for topic_name in model_artm.topic_names:\n",
    "    print(topic_name + ': ', end='\\t'),\n",
    "    tokens = model_artm.score_tracker[\"top_words\"].last_tokens.items()\n",
    "    for word in tokens[topic_name]:    \n",
    "        print(word, end=' '),\n",
    "    print()"
   ]
  },
  {
   "cell_type": "code",
   "execution_count": 125,
   "metadata": {},
   "outputs": [
    {
     "name": "stdout",
     "output_type": "stream",
     "text": [
      "sbj0 ['который', 'быть', 'что', 'это', 'этот', 'как', 'человек', 'свой', 'для', 'они', 'весь', 'такой', 'его', 'время', 'год']\n",
      "sbj2 ['обособление', 'куприн', 'слово', 'раскольников', 'мастер', 'роман', 'словосочетание', 'маргарита', 'браслет', 'соня', 'вера', 'управление', 'зависимое', 'княгиня', 'теория']\n",
      "sbj3 ['который', 'быть', 'для', 'год', 'что', 'этот', 'как', 'это', 'свой', 'весь', 'они', 'человек', 'государство', 'такой', 'время']\n",
      "sbj4 ['x', 'a', 'b', 'число', 'уравнение', 'корень', 'функция', 'дробь', 'y', 'квадратный', 'степень', 'f', 'решение', 'получать', 'пример']\n",
      "sbj5 ['быть', 'функция', 'пушкин', 'точка', 'трение', 'a', 'f', 'год', 'предложение', 'империя', 'существительное', 'звук', 'пример', 'язык', 'падеж']\n",
      "sbj6 ['магнитный', 'индукция', 'подчинительный', 'наречие', 'примыкать', 'глагол', 'местоимение', 'поле', 'прилагательное', 'прилагательный', 'разряд', 'существительный', 'например', 'оборот', 'генератор']\n",
      "sbj7 ['что', 'человек', 'это', 'его', 'свой', 'как', 'она', 'герой', 'другой', 'себя', 'который', 'мочь', 'при', 'сила', 'образ']\n",
      "sbj8 ['быть', 'который', 'что', 'это', 'этот', 'свой', 'как', 'для', 'человек', 'x', 'они', 'такой', 'государство', 'весь', 'a']\n",
      "sbj9 ['который', 'быть', 'что', 'этот', 'это', 'человек', 'как', 'свой', 'для', 'весь', 'такой', 'его', 'жизнь', 'они', 'год']\n"
     ]
    },
    {
     "name": "stderr",
     "output_type": "stream",
     "text": [
      "c:\\users\\glukh\\appdata\\local\\programs\\python\\python38\\lib\\site-packages\\ipykernel\\ipkernel.py:287: DeprecationWarning: `should_run_async` will not call `transform_cell` automatically in the future. Please pass the result to `transformed_cell` argument and any exception that happen during thetransform in `preprocessing_exc_tuple` in IPython 7.17 and above.\n",
      "  and should_run_async(code)\n"
     ]
    }
   ],
   "source": [
    "for i,j in model_artm.score_tracker[\"top_words\"].last_tokens.items():\n",
    "    print(i, j)"
   ]
  },
  {
   "cell_type": "code",
   "execution_count": 126,
   "metadata": {},
   "outputs": [
    {
     "name": "stdout",
     "output_type": "stream",
     "text": [
      "0.8120690584182739\n",
      "0.31617647409439087\n"
     ]
    }
   ],
   "source": [
    "print(model_artm.score_tracker[\"SparsityPhiScore\"].last_value)\n",
    "print(model_artm.score_tracker[\"SparsityThetaScore\"].last_value)"
   ]
  },
  {
   "cell_type": "markdown",
   "metadata": {},
   "source": [
    "Попробуем менять коэффициент регуляризации:"
   ]
  },
  {
   "cell_type": "code",
   "execution_count": 127,
   "metadata": {},
   "outputs": [],
   "source": [
    "model_artm.regularizers['SparsePhi'].tau = -3*1e3"
   ]
  },
  {
   "cell_type": "code",
   "execution_count": null,
   "metadata": {},
   "outputs": [],
   "source": [
    "model_artm.fit_offline(batch_vectorizer=batch_vectorizer, num_collection_passes=40)"
   ]
  },
  {
   "cell_type": "code",
   "execution_count": null,
   "metadata": {},
   "outputs": [],
   "source": [
    "for i,j in model_artm.score_tracker[\"top_words\"].last_tokens.items():\n",
    "    print(i, j)"
   ]
  },
  {
   "cell_type": "code",
   "execution_count": null,
   "metadata": {},
   "outputs": [],
   "source": [
    "# еще раз посмотрим на разреженность\n",
    "print(model_artm.score_tracker[\"SparsityPhiScore\"].last_value)\n",
    "print(model_artm.score_tracker[\"SparsityThetaScore\"].last_value)"
   ]
  },
  {
   "cell_type": "markdown",
   "metadata": {},
   "source": [
    "Обратите внимание, что разреживать модель рекомендуется только после того, как она сошлась без регуляризации."
   ]
  },
  {
   "cell_type": "markdown",
   "metadata": {},
   "source": [
    "Сохранение и загрузка модели:"
   ]
  },
  {
   "cell_type": "code",
   "execution_count": null,
   "metadata": {
    "collapsed": true
   },
   "outputs": [],
   "source": [
    "model_artm.save(\"my_model\")"
   ]
  },
  {
   "cell_type": "code",
   "execution_count": null,
   "metadata": {},
   "outputs": [],
   "source": [
    "model_artm.load(\"my_model\")"
   ]
  },
  {
   "cell_type": "markdown",
   "metadata": {},
   "source": [
    "Можно попросить матрицы в чистом виде:"
   ]
  },
  {
   "cell_type": "code",
   "execution_count": 78,
   "metadata": {},
   "outputs": [],
   "source": [
    "phi = model_artm.get_phi()"
   ]
  },
  {
   "cell_type": "code",
   "execution_count": 79,
   "metadata": {},
   "outputs": [
    {
     "data": {
      "text/html": [
       "<div>\n",
       "<style scoped>\n",
       "    .dataframe tbody tr th:only-of-type {\n",
       "        vertical-align: middle;\n",
       "    }\n",
       "\n",
       "    .dataframe tbody tr th {\n",
       "        vertical-align: top;\n",
       "    }\n",
       "\n",
       "    .dataframe thead th {\n",
       "        text-align: right;\n",
       "    }\n",
       "</style>\n",
       "<table border=\"1\" class=\"dataframe\">\n",
       "  <thead>\n",
       "    <tr style=\"text-align: right;\">\n",
       "      <th></th>\n",
       "      <th>sbj0</th>\n",
       "      <th>sbj1</th>\n",
       "      <th>sbj2</th>\n",
       "      <th>sbj3</th>\n",
       "      <th>sbj4</th>\n",
       "      <th>sbj5</th>\n",
       "      <th>sbj6</th>\n",
       "      <th>sbj7</th>\n",
       "      <th>sbj8</th>\n",
       "      <th>sbj9</th>\n",
       "    </tr>\n",
       "  </thead>\n",
       "  <tbody>\n",
       "    <tr>\n",
       "      <th>(text, домохозяйка)</th>\n",
       "      <td>0.0</td>\n",
       "      <td>0.0</td>\n",
       "      <td>0.0</td>\n",
       "      <td>0.0</td>\n",
       "      <td>0.0</td>\n",
       "      <td>0.000000</td>\n",
       "      <td>0.0</td>\n",
       "      <td>0.000000</td>\n",
       "      <td>0.000000</td>\n",
       "      <td>0.000011</td>\n",
       "    </tr>\n",
       "    <tr>\n",
       "      <th>(text, институт)</th>\n",
       "      <td>0.0</td>\n",
       "      <td>0.0</td>\n",
       "      <td>0.0</td>\n",
       "      <td>0.0</td>\n",
       "      <td>0.0</td>\n",
       "      <td>0.000000</td>\n",
       "      <td>0.0</td>\n",
       "      <td>0.000000</td>\n",
       "      <td>0.001467</td>\n",
       "      <td>0.000000</td>\n",
       "    </tr>\n",
       "    <tr>\n",
       "      <th>(text, машинка)</th>\n",
       "      <td>0.0</td>\n",
       "      <td>0.0</td>\n",
       "      <td>0.0</td>\n",
       "      <td>0.0</td>\n",
       "      <td>0.0</td>\n",
       "      <td>0.000138</td>\n",
       "      <td>0.0</td>\n",
       "      <td>0.000000</td>\n",
       "      <td>0.000000</td>\n",
       "      <td>0.000000</td>\n",
       "    </tr>\n",
       "    <tr>\n",
       "      <th>(text, прочий)</th>\n",
       "      <td>0.0</td>\n",
       "      <td>0.0</td>\n",
       "      <td>0.0</td>\n",
       "      <td>0.0</td>\n",
       "      <td>0.0</td>\n",
       "      <td>0.000000</td>\n",
       "      <td>0.0</td>\n",
       "      <td>0.000000</td>\n",
       "      <td>0.000000</td>\n",
       "      <td>0.000090</td>\n",
       "    </tr>\n",
       "    <tr>\n",
       "      <th>(text, навязнуть)</th>\n",
       "      <td>0.0</td>\n",
       "      <td>0.0</td>\n",
       "      <td>0.0</td>\n",
       "      <td>0.0</td>\n",
       "      <td>0.0</td>\n",
       "      <td>0.000000</td>\n",
       "      <td>0.0</td>\n",
       "      <td>0.000577</td>\n",
       "      <td>0.000000</td>\n",
       "      <td>0.000000</td>\n",
       "    </tr>\n",
       "    <tr>\n",
       "      <th>...</th>\n",
       "      <td>...</td>\n",
       "      <td>...</td>\n",
       "      <td>...</td>\n",
       "      <td>...</td>\n",
       "      <td>...</td>\n",
       "      <td>...</td>\n",
       "      <td>...</td>\n",
       "      <td>...</td>\n",
       "      <td>...</td>\n",
       "      <td>...</td>\n",
       "    </tr>\n",
       "    <tr>\n",
       "      <th>(text, задабривать)</th>\n",
       "      <td>0.0</td>\n",
       "      <td>0.0</td>\n",
       "      <td>0.0</td>\n",
       "      <td>0.0</td>\n",
       "      <td>0.0</td>\n",
       "      <td>0.000138</td>\n",
       "      <td>0.0</td>\n",
       "      <td>0.000000</td>\n",
       "      <td>0.000000</td>\n",
       "      <td>0.000000</td>\n",
       "    </tr>\n",
       "    <tr>\n",
       "      <th>(text, шаманский)</th>\n",
       "      <td>0.0</td>\n",
       "      <td>0.0</td>\n",
       "      <td>0.0</td>\n",
       "      <td>0.0</td>\n",
       "      <td>0.0</td>\n",
       "      <td>0.000138</td>\n",
       "      <td>0.0</td>\n",
       "      <td>0.000000</td>\n",
       "      <td>0.000000</td>\n",
       "      <td>0.000000</td>\n",
       "    </tr>\n",
       "    <tr>\n",
       "      <th>(text, усопший)</th>\n",
       "      <td>0.0</td>\n",
       "      <td>0.0</td>\n",
       "      <td>0.0</td>\n",
       "      <td>0.0</td>\n",
       "      <td>0.0</td>\n",
       "      <td>0.000138</td>\n",
       "      <td>0.0</td>\n",
       "      <td>0.000000</td>\n",
       "      <td>0.000000</td>\n",
       "      <td>0.000000</td>\n",
       "    </tr>\n",
       "    <tr>\n",
       "      <th>(text, рисование)</th>\n",
       "      <td>0.0</td>\n",
       "      <td>0.0</td>\n",
       "      <td>0.0</td>\n",
       "      <td>0.0</td>\n",
       "      <td>0.0</td>\n",
       "      <td>0.000138</td>\n",
       "      <td>0.0</td>\n",
       "      <td>0.000000</td>\n",
       "      <td>0.000000</td>\n",
       "      <td>0.000000</td>\n",
       "    </tr>\n",
       "    <tr>\n",
       "      <th>(text, бивень)</th>\n",
       "      <td>0.0</td>\n",
       "      <td>0.0</td>\n",
       "      <td>0.0</td>\n",
       "      <td>0.0</td>\n",
       "      <td>0.0</td>\n",
       "      <td>0.000138</td>\n",
       "      <td>0.0</td>\n",
       "      <td>0.000000</td>\n",
       "      <td>0.000000</td>\n",
       "      <td>0.000000</td>\n",
       "    </tr>\n",
       "  </tbody>\n",
       "</table>\n",
       "<p>16099 rows × 10 columns</p>\n",
       "</div>"
      ],
      "text/plain": [
       "                     sbj0  sbj1  sbj2  sbj3  sbj4      sbj5  sbj6      sbj7  \\\n",
       "(text, домохозяйка)   0.0   0.0   0.0   0.0   0.0  0.000000   0.0  0.000000   \n",
       "(text, институт)      0.0   0.0   0.0   0.0   0.0  0.000000   0.0  0.000000   \n",
       "(text, машинка)       0.0   0.0   0.0   0.0   0.0  0.000138   0.0  0.000000   \n",
       "(text, прочий)        0.0   0.0   0.0   0.0   0.0  0.000000   0.0  0.000000   \n",
       "(text, навязнуть)     0.0   0.0   0.0   0.0   0.0  0.000000   0.0  0.000577   \n",
       "...                   ...   ...   ...   ...   ...       ...   ...       ...   \n",
       "(text, задабривать)   0.0   0.0   0.0   0.0   0.0  0.000138   0.0  0.000000   \n",
       "(text, шаманский)     0.0   0.0   0.0   0.0   0.0  0.000138   0.0  0.000000   \n",
       "(text, усопший)       0.0   0.0   0.0   0.0   0.0  0.000138   0.0  0.000000   \n",
       "(text, рисование)     0.0   0.0   0.0   0.0   0.0  0.000138   0.0  0.000000   \n",
       "(text, бивень)        0.0   0.0   0.0   0.0   0.0  0.000138   0.0  0.000000   \n",
       "\n",
       "                         sbj8      sbj9  \n",
       "(text, домохозяйка)  0.000000  0.000011  \n",
       "(text, институт)     0.001467  0.000000  \n",
       "(text, машинка)      0.000000  0.000000  \n",
       "(text, прочий)       0.000000  0.000090  \n",
       "(text, навязнуть)    0.000000  0.000000  \n",
       "...                       ...       ...  \n",
       "(text, задабривать)  0.000000  0.000000  \n",
       "(text, шаманский)    0.000000  0.000000  \n",
       "(text, усопший)      0.000000  0.000000  \n",
       "(text, рисование)    0.000000  0.000000  \n",
       "(text, бивень)       0.000000  0.000000  \n",
       "\n",
       "[16099 rows x 10 columns]"
      ]
     },
     "execution_count": 79,
     "metadata": {},
     "output_type": "execute_result"
    }
   ],
   "source": [
    "phi"
   ]
  },
  {
   "cell_type": "markdown",
   "metadata": {},
   "source": [
    "Матрица вероятностей тем в документах."
   ]
  },
  {
   "cell_type": "code",
   "execution_count": 50,
   "metadata": {},
   "outputs": [
    {
     "data": {
      "text/html": [
       "<div>\n",
       "<table border=\"1\" class=\"dataframe\">\n",
       "  <thead>\n",
       "    <tr style=\"text-align: right;\">\n",
       "      <th></th>\n",
       "      <th>201</th>\n",
       "      <th>202</th>\n",
       "      <th>203</th>\n",
       "      <th>204</th>\n",
       "      <th>205</th>\n",
       "      <th>206</th>\n",
       "      <th>207</th>\n",
       "      <th>208</th>\n",
       "      <th>209</th>\n",
       "      <th>210</th>\n",
       "      <th>...</th>\n",
       "      <th>91</th>\n",
       "      <th>92</th>\n",
       "      <th>93</th>\n",
       "      <th>94</th>\n",
       "      <th>95</th>\n",
       "      <th>96</th>\n",
       "      <th>97</th>\n",
       "      <th>98</th>\n",
       "      <th>99</th>\n",
       "      <th>100</th>\n",
       "    </tr>\n",
       "  </thead>\n",
       "  <tbody>\n",
       "    <tr>\n",
       "      <th>sbj0</th>\n",
       "      <td>0.000000</td>\n",
       "      <td>0.0</td>\n",
       "      <td>0.000000</td>\n",
       "      <td>0.025641</td>\n",
       "      <td>0.0</td>\n",
       "      <td>0.005495</td>\n",
       "      <td>1.282051e-02</td>\n",
       "      <td>0.007012</td>\n",
       "      <td>0.015306</td>\n",
       "      <td>0.016878</td>\n",
       "      <td>...</td>\n",
       "      <td>0.0</td>\n",
       "      <td>0.000000</td>\n",
       "      <td>0.000000</td>\n",
       "      <td>0.000000</td>\n",
       "      <td>0.004566</td>\n",
       "      <td>0.000000</td>\n",
       "      <td>0.000000</td>\n",
       "      <td>1.065346e-16</td>\n",
       "      <td>0.009944</td>\n",
       "      <td>0.020492</td>\n",
       "    </tr>\n",
       "    <tr>\n",
       "      <th>sbj1</th>\n",
       "      <td>0.004695</td>\n",
       "      <td>0.0</td>\n",
       "      <td>0.000000</td>\n",
       "      <td>0.005128</td>\n",
       "      <td>0.0</td>\n",
       "      <td>0.000000</td>\n",
       "      <td>2.326925e-09</td>\n",
       "      <td>0.071799</td>\n",
       "      <td>0.025636</td>\n",
       "      <td>0.025316</td>\n",
       "      <td>...</td>\n",
       "      <td>0.0</td>\n",
       "      <td>0.000000</td>\n",
       "      <td>0.000000</td>\n",
       "      <td>0.013393</td>\n",
       "      <td>0.305687</td>\n",
       "      <td>0.000000</td>\n",
       "      <td>0.309735</td>\n",
       "      <td>7.356615e-03</td>\n",
       "      <td>0.066667</td>\n",
       "      <td>0.479444</td>\n",
       "    </tr>\n",
       "    <tr>\n",
       "      <th>sbj2</th>\n",
       "      <td>0.061033</td>\n",
       "      <td>0.0</td>\n",
       "      <td>0.027053</td>\n",
       "      <td>0.035897</td>\n",
       "      <td>0.0</td>\n",
       "      <td>0.093407</td>\n",
       "      <td>4.273504e-02</td>\n",
       "      <td>0.041958</td>\n",
       "      <td>0.041297</td>\n",
       "      <td>0.017794</td>\n",
       "      <td>...</td>\n",
       "      <td>1.0</td>\n",
       "      <td>0.013451</td>\n",
       "      <td>0.341317</td>\n",
       "      <td>0.000000</td>\n",
       "      <td>0.000000</td>\n",
       "      <td>0.144444</td>\n",
       "      <td>0.017699</td>\n",
       "      <td>6.179777e-02</td>\n",
       "      <td>0.318133</td>\n",
       "      <td>0.049180</td>\n",
       "    </tr>\n",
       "    <tr>\n",
       "      <th>sbj3</th>\n",
       "      <td>0.652196</td>\n",
       "      <td>0.0</td>\n",
       "      <td>0.008969</td>\n",
       "      <td>0.020513</td>\n",
       "      <td>0.0</td>\n",
       "      <td>0.030890</td>\n",
       "      <td>2.564103e-02</td>\n",
       "      <td>0.017791</td>\n",
       "      <td>0.072254</td>\n",
       "      <td>0.000000</td>\n",
       "      <td>...</td>\n",
       "      <td>0.0</td>\n",
       "      <td>0.174107</td>\n",
       "      <td>0.000000</td>\n",
       "      <td>0.000000</td>\n",
       "      <td>0.000000</td>\n",
       "      <td>0.593818</td>\n",
       "      <td>0.000000</td>\n",
       "      <td>1.966293e-01</td>\n",
       "      <td>0.015045</td>\n",
       "      <td>0.000000</td>\n",
       "    </tr>\n",
       "    <tr>\n",
       "      <th>sbj4</th>\n",
       "      <td>0.000000</td>\n",
       "      <td>0.0</td>\n",
       "      <td>0.004484</td>\n",
       "      <td>0.000000</td>\n",
       "      <td>0.0</td>\n",
       "      <td>0.016905</td>\n",
       "      <td>9.110670e-03</td>\n",
       "      <td>0.020979</td>\n",
       "      <td>0.425943</td>\n",
       "      <td>0.000000</td>\n",
       "      <td>...</td>\n",
       "      <td>0.0</td>\n",
       "      <td>0.000000</td>\n",
       "      <td>0.000000</td>\n",
       "      <td>0.000000</td>\n",
       "      <td>0.013948</td>\n",
       "      <td>0.000000</td>\n",
       "      <td>0.022124</td>\n",
       "      <td>4.757892e-01</td>\n",
       "      <td>0.010018</td>\n",
       "      <td>0.000000</td>\n",
       "    </tr>\n",
       "    <tr>\n",
       "      <th>sbj5</th>\n",
       "      <td>0.282076</td>\n",
       "      <td>1.0</td>\n",
       "      <td>0.851805</td>\n",
       "      <td>0.046154</td>\n",
       "      <td>1.0</td>\n",
       "      <td>0.740760</td>\n",
       "      <td>7.264958e-02</td>\n",
       "      <td>0.061090</td>\n",
       "      <td>0.000000</td>\n",
       "      <td>0.039157</td>\n",
       "      <td>...</td>\n",
       "      <td>0.0</td>\n",
       "      <td>0.031250</td>\n",
       "      <td>0.658683</td>\n",
       "      <td>0.000000</td>\n",
       "      <td>0.000000</td>\n",
       "      <td>0.261737</td>\n",
       "      <td>0.017699</td>\n",
       "      <td>1.629214e-01</td>\n",
       "      <td>0.075431</td>\n",
       "      <td>0.000000</td>\n",
       "    </tr>\n",
       "    <tr>\n",
       "      <th>sbj6</th>\n",
       "      <td>0.000000</td>\n",
       "      <td>0.0</td>\n",
       "      <td>0.053812</td>\n",
       "      <td>0.148718</td>\n",
       "      <td>0.0</td>\n",
       "      <td>0.041114</td>\n",
       "      <td>2.173850e-01</td>\n",
       "      <td>0.160897</td>\n",
       "      <td>0.292013</td>\n",
       "      <td>0.063291</td>\n",
       "      <td>...</td>\n",
       "      <td>0.0</td>\n",
       "      <td>0.000000</td>\n",
       "      <td>0.000000</td>\n",
       "      <td>0.120536</td>\n",
       "      <td>0.602739</td>\n",
       "      <td>0.000000</td>\n",
       "      <td>0.314159</td>\n",
       "      <td>9.550567e-02</td>\n",
       "      <td>0.366667</td>\n",
       "      <td>0.286949</td>\n",
       "    </tr>\n",
       "    <tr>\n",
       "      <th>sbj7</th>\n",
       "      <td>0.000000</td>\n",
       "      <td>0.0</td>\n",
       "      <td>0.009034</td>\n",
       "      <td>0.497436</td>\n",
       "      <td>0.0</td>\n",
       "      <td>0.043956</td>\n",
       "      <td>8.974358e-02</td>\n",
       "      <td>0.499593</td>\n",
       "      <td>0.000000</td>\n",
       "      <td>0.042194</td>\n",
       "      <td>...</td>\n",
       "      <td>0.0</td>\n",
       "      <td>0.071429</td>\n",
       "      <td>0.000000</td>\n",
       "      <td>0.674107</td>\n",
       "      <td>0.073059</td>\n",
       "      <td>0.000000</td>\n",
       "      <td>0.106195</td>\n",
       "      <td>0.000000e+00</td>\n",
       "      <td>0.033333</td>\n",
       "      <td>0.073771</td>\n",
       "    </tr>\n",
       "    <tr>\n",
       "      <th>sbj8</th>\n",
       "      <td>0.000000</td>\n",
       "      <td>0.0</td>\n",
       "      <td>0.013453</td>\n",
       "      <td>0.148718</td>\n",
       "      <td>0.0</td>\n",
       "      <td>0.005495</td>\n",
       "      <td>2.905983e-01</td>\n",
       "      <td>0.000000</td>\n",
       "      <td>0.040816</td>\n",
       "      <td>0.315539</td>\n",
       "      <td>...</td>\n",
       "      <td>0.0</td>\n",
       "      <td>0.709763</td>\n",
       "      <td>0.000000</td>\n",
       "      <td>0.000000</td>\n",
       "      <td>0.000000</td>\n",
       "      <td>0.000000</td>\n",
       "      <td>0.048673</td>\n",
       "      <td>0.000000e+00</td>\n",
       "      <td>0.014286</td>\n",
       "      <td>0.000000</td>\n",
       "    </tr>\n",
       "    <tr>\n",
       "      <th>sbj9</th>\n",
       "      <td>0.000000</td>\n",
       "      <td>0.0</td>\n",
       "      <td>0.031390</td>\n",
       "      <td>0.071795</td>\n",
       "      <td>0.0</td>\n",
       "      <td>0.021978</td>\n",
       "      <td>2.393163e-01</td>\n",
       "      <td>0.118881</td>\n",
       "      <td>0.086735</td>\n",
       "      <td>0.479830</td>\n",
       "      <td>...</td>\n",
       "      <td>0.0</td>\n",
       "      <td>0.000000</td>\n",
       "      <td>0.000000</td>\n",
       "      <td>0.191964</td>\n",
       "      <td>0.000000</td>\n",
       "      <td>0.000000</td>\n",
       "      <td>0.163717</td>\n",
       "      <td>0.000000e+00</td>\n",
       "      <td>0.090476</td>\n",
       "      <td>0.090164</td>\n",
       "    </tr>\n",
       "  </tbody>\n",
       "</table>\n",
       "<p>10 rows × 476 columns</p>\n",
       "</div>"
      ],
      "text/plain": [
       "           201  202       203       204  205       206           207  \\\n",
       "sbj0  0.000000  0.0  0.000000  0.025641  0.0  0.005495  1.282051e-02   \n",
       "sbj1  0.004695  0.0  0.000000  0.005128  0.0  0.000000  2.326925e-09   \n",
       "sbj2  0.061033  0.0  0.027053  0.035897  0.0  0.093407  4.273504e-02   \n",
       "sbj3  0.652196  0.0  0.008969  0.020513  0.0  0.030890  2.564103e-02   \n",
       "sbj4  0.000000  0.0  0.004484  0.000000  0.0  0.016905  9.110670e-03   \n",
       "sbj5  0.282076  1.0  0.851805  0.046154  1.0  0.740760  7.264958e-02   \n",
       "sbj6  0.000000  0.0  0.053812  0.148718  0.0  0.041114  2.173850e-01   \n",
       "sbj7  0.000000  0.0  0.009034  0.497436  0.0  0.043956  8.974358e-02   \n",
       "sbj8  0.000000  0.0  0.013453  0.148718  0.0  0.005495  2.905983e-01   \n",
       "sbj9  0.000000  0.0  0.031390  0.071795  0.0  0.021978  2.393163e-01   \n",
       "\n",
       "           208       209       210    ...     91        92        93   \\\n",
       "sbj0  0.007012  0.015306  0.016878    ...     0.0  0.000000  0.000000   \n",
       "sbj1  0.071799  0.025636  0.025316    ...     0.0  0.000000  0.000000   \n",
       "sbj2  0.041958  0.041297  0.017794    ...     1.0  0.013451  0.341317   \n",
       "sbj3  0.017791  0.072254  0.000000    ...     0.0  0.174107  0.000000   \n",
       "sbj4  0.020979  0.425943  0.000000    ...     0.0  0.000000  0.000000   \n",
       "sbj5  0.061090  0.000000  0.039157    ...     0.0  0.031250  0.658683   \n",
       "sbj6  0.160897  0.292013  0.063291    ...     0.0  0.000000  0.000000   \n",
       "sbj7  0.499593  0.000000  0.042194    ...     0.0  0.071429  0.000000   \n",
       "sbj8  0.000000  0.040816  0.315539    ...     0.0  0.709763  0.000000   \n",
       "sbj9  0.118881  0.086735  0.479830    ...     0.0  0.000000  0.000000   \n",
       "\n",
       "           94        95        96        97            98        99        100  \n",
       "sbj0  0.000000  0.004566  0.000000  0.000000  1.065346e-16  0.009944  0.020492  \n",
       "sbj1  0.013393  0.305687  0.000000  0.309735  7.356615e-03  0.066667  0.479444  \n",
       "sbj2  0.000000  0.000000  0.144444  0.017699  6.179777e-02  0.318133  0.049180  \n",
       "sbj3  0.000000  0.000000  0.593818  0.000000  1.966293e-01  0.015045  0.000000  \n",
       "sbj4  0.000000  0.013948  0.000000  0.022124  4.757892e-01  0.010018  0.000000  \n",
       "sbj5  0.000000  0.000000  0.261737  0.017699  1.629214e-01  0.075431  0.000000  \n",
       "sbj6  0.120536  0.602739  0.000000  0.314159  9.550567e-02  0.366667  0.286949  \n",
       "sbj7  0.674107  0.073059  0.000000  0.106195  0.000000e+00  0.033333  0.073771  \n",
       "sbj8  0.000000  0.000000  0.000000  0.048673  0.000000e+00  0.014286  0.000000  \n",
       "sbj9  0.191964  0.000000  0.000000  0.163717  0.000000e+00  0.090476  0.090164  \n",
       "\n",
       "[10 rows x 476 columns]"
      ]
     },
     "execution_count": 50,
     "metadata": {},
     "output_type": "execute_result"
    }
   ],
   "source": [
    "theta = model_artm.get_theta()\n",
    "theta"
   ]
  },
  {
   "cell_type": "markdown",
   "metadata": {},
   "source": [
    "Если бы у нас были новые батчи, по которым мы не строим модель, а хотим только получить матрицу theta, можно пользоваться методом transform."
   ]
  },
  {
   "cell_type": "code",
   "execution_count": 28,
   "metadata": {
    "collapsed": true
   },
   "outputs": [],
   "source": [
    "theta_test = model_artm.transform(batch_vectorizer)"
   ]
  }
 ],
 "metadata": {
  "kernelspec": {
   "display_name": "Python 3",
   "language": "python",
   "name": "python3"
  },
  "language_info": {
   "codemirror_mode": {
    "name": "ipython",
    "version": 3
   },
   "file_extension": ".py",
   "mimetype": "text/x-python",
   "name": "python",
   "nbconvert_exporter": "python",
   "pygments_lexer": "ipython3",
   "version": "3.8.6"
  }
 },
 "nbformat": 4,
 "nbformat_minor": 1
}
