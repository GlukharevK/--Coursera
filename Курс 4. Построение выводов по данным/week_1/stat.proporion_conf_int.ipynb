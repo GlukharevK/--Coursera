{
 "cells": [
  {
   "cell_type": "markdown",
   "metadata": {},
   "source": [
    "**Корректность проверена на Python 3.7:**\n",
    "+ numpy 1.14.5"
   ]
  },
  {
   "cell_type": "markdown",
   "metadata": {},
   "source": [
    "# Доверительные интервалы для доли "
   ]
  },
  {
   "cell_type": "markdown",
   "metadata": {},
   "source": [
    "## Генерация данных"
   ]
  },
  {
   "cell_type": "code",
   "execution_count": 2,
   "metadata": {},
   "outputs": [],
   "source": [
    "import numpy as np"
   ]
  },
  {
   "cell_type": "code",
   "execution_count": 3,
   "metadata": {},
   "outputs": [
    {
     "name": "stdout",
     "output_type": "stream",
     "text": [
      "1.19.4\n"
     ]
    }
   ],
   "source": [
    "print(np.__version__)"
   ]
  },
  {
   "cell_type": "code",
   "execution_count": 4,
   "metadata": {},
   "outputs": [],
   "source": [
    "np.random.seed(1)\n",
    "\n",
    "statistical_population = np.random.randint(2, size = 100000) \n",
    "\n",
    "random_sample = np.random.choice(statistical_population, size = 1000)"
   ]
  },
  {
   "cell_type": "code",
   "execution_count": 5,
   "metadata": {},
   "outputs": [
    {
     "data": {
      "text/plain": [
       "0.49771"
      ]
     },
     "execution_count": 5,
     "metadata": {},
     "output_type": "execute_result"
    }
   ],
   "source": [
    "#истинное значение доли\n",
    "statistical_population.mean()"
   ]
  },
  {
   "cell_type": "markdown",
   "metadata": {},
   "source": [
    "## Точечная оценка доли"
   ]
  },
  {
   "cell_type": "code",
   "execution_count": 6,
   "metadata": {},
   "outputs": [
    {
     "data": {
      "text/plain": [
       "0.502"
      ]
     },
     "execution_count": 6,
     "metadata": {},
     "output_type": "execute_result"
    }
   ],
   "source": [
    "random_sample.mean()"
   ]
  },
  {
   "cell_type": "markdown",
   "metadata": {},
   "source": [
    "## Доверительный интервал для доли"
   ]
  },
  {
   "cell_type": "code",
   "execution_count": 7,
   "metadata": {},
   "outputs": [],
   "source": [
    "from statsmodels.stats.proportion import proportion_confint"
   ]
  },
  {
   "cell_type": "markdown",
   "metadata": {},
   "source": [
    "### Доверительный интервал на основе нормального распределения"
   ]
  },
  {
   "cell_type": "markdown",
   "metadata": {},
   "source": [
    "$$\\hat{p}\\pm z_{1-\\frac{\\alpha}{2}} \\sqrt{\\frac{\\hat{p}\\left(1-\\hat{p}\\right)}{n}}$$"
   ]
  },
  {
   "cell_type": "code",
   "execution_count": 8,
   "metadata": {},
   "outputs": [],
   "source": [
    "normal_interval = proportion_confint(sum(random_sample), len(random_sample), method = 'normal')"
   ]
  },
  {
   "cell_type": "code",
   "execution_count": 9,
   "metadata": {},
   "outputs": [
    {
     "name": "stdout",
     "output_type": "stream",
     "text": [
      "normal_interval [0.471010, 0.532990] with width 0.061979\n"
     ]
    }
   ],
   "source": [
    "print('normal_interval [%f, %f] with width %f' % (normal_interval[0],\n",
    "                                                  normal_interval[1], \n",
    "                                                  normal_interval[1] - normal_interval[0]))"
   ]
  },
  {
   "cell_type": "markdown",
   "metadata": {},
   "source": [
    "### Доверительный интервал Уилсона"
   ]
  },
  {
   "cell_type": "markdown",
   "metadata": {},
   "source": [
    "$$\\frac1{ 1 + \\frac{z^2}{n} } \\left( \\hat{p} + \\frac{z^2}{2n} \\pm z \\sqrt{ \\frac{ \\hat{p}\\left(1-\\hat{p}\\right)}{n} + \\frac{\n",
    "z^2}{4n^2} } \\right), \\;\\; z \\equiv z_{1-\\frac{\\alpha}{2}}$$ "
   ]
  },
  {
   "cell_type": "code",
   "execution_count": 10,
   "metadata": {},
   "outputs": [],
   "source": [
    "wilson_interval = proportion_confint(sum(random_sample), len(random_sample), method = 'wilson')"
   ]
  },
  {
   "cell_type": "code",
   "execution_count": 11,
   "metadata": {},
   "outputs": [
    {
     "name": "stdout",
     "output_type": "stream",
     "text": [
      "wilson_interval [0.471062, 0.532922] with width 0.061860\n"
     ]
    }
   ],
   "source": [
    "print('wilson_interval [%f, %f] with width %f' % (wilson_interval[0],\n",
    "                                                  wilson_interval[1],\n",
    "                                                  wilson_interval[1] - wilson_interval[0]))"
   ]
  },
  {
   "cell_type": "markdown",
   "metadata": {},
   "source": [
    "## Размер выборки для интервала заданной ширины"
   ]
  },
  {
   "cell_type": "code",
   "execution_count": 12,
   "metadata": {},
   "outputs": [],
   "source": [
    "from statsmodels.stats.proportion import samplesize_confint_proportion"
   ]
  },
  {
   "cell_type": "code",
   "execution_count": 13,
   "metadata": {},
   "outputs": [
    {
     "data": {
      "text/plain": [
       "9604"
      ]
     },
     "execution_count": 13,
     "metadata": {},
     "output_type": "execute_result"
    }
   ],
   "source": [
    "n_samples = int(np.ceil(samplesize_confint_proportion(random_sample.mean(), 0.01)))\n",
    "n_samples"
   ]
  },
  {
   "cell_type": "code",
   "execution_count": 14,
   "metadata": {},
   "outputs": [],
   "source": [
    "np.random.seed(1)\n",
    "random_sample = np.random.choice(statistical_population, size = n_samples)"
   ]
  },
  {
   "cell_type": "code",
   "execution_count": 15,
   "metadata": {},
   "outputs": [],
   "source": [
    "normal_interval = proportion_confint(sum(random_sample), len(random_sample), method = 'normal')"
   ]
  },
  {
   "cell_type": "code",
   "execution_count": 16,
   "metadata": {},
   "outputs": [
    {
     "name": "stdout",
     "output_type": "stream",
     "text": [
      "normal_interval [0.481776, 0.501773] with width 0.019997\n"
     ]
    }
   ],
   "source": [
    "print('normal_interval [%f, %f] with width %f' % (normal_interval[0],\n",
    "                                                  normal_interval[1],\n",
    "                                                  normal_interval[1] - normal_interval[0]))"
   ]
  },
  {
   "cell_type": "code",
   "execution_count": 17,
   "metadata": {},
   "outputs": [
    {
     "data": {
      "text/plain": [
       "0.0035"
      ]
     },
     "execution_count": 17,
     "metadata": {},
     "output_type": "execute_result"
    }
   ],
   "source": [
    "proportion_confint(1, 50, method = 'wilson')[0].round(4)"
   ]
  },
  {
   "cell_type": "code",
   "execution_count": 18,
   "metadata": {},
   "outputs": [
    {
     "data": {
      "text/plain": [
       "9604"
      ]
     },
     "execution_count": 18,
     "metadata": {},
     "output_type": "execute_result"
    }
   ],
   "source": [
    "int(np.ceil(samplesize_confint_proportion(0.5, 0.01)))"
   ]
  },
  {
   "cell_type": "code",
   "execution_count": 19,
   "metadata": {},
   "outputs": [],
   "source": [
    "p = np.linspace(0.01, 1, 200)"
   ]
  },
  {
   "cell_type": "code",
   "execution_count": 20,
   "metadata": {},
   "outputs": [
    {
     "data": {
      "text/plain": [
       "array([0.01      , 0.01497487, 0.01994975, 0.02492462, 0.0298995 ,\n",
       "       0.03487437, 0.03984925, 0.04482412, 0.04979899, 0.05477387,\n",
       "       0.05974874, 0.06472362, 0.06969849, 0.07467337, 0.07964824,\n",
       "       0.08462312, 0.08959799, 0.09457286, 0.09954774, 0.10452261,\n",
       "       0.10949749, 0.11447236, 0.11944724, 0.12442211, 0.12939698,\n",
       "       0.13437186, 0.13934673, 0.14432161, 0.14929648, 0.15427136,\n",
       "       0.15924623, 0.16422111, 0.16919598, 0.17417085, 0.17914573,\n",
       "       0.1841206 , 0.18909548, 0.19407035, 0.19904523, 0.2040201 ,\n",
       "       0.20899497, 0.21396985, 0.21894472, 0.2239196 , 0.22889447,\n",
       "       0.23386935, 0.23884422, 0.2438191 , 0.24879397, 0.25376884,\n",
       "       0.25874372, 0.26371859, 0.26869347, 0.27366834, 0.27864322,\n",
       "       0.28361809, 0.28859296, 0.29356784, 0.29854271, 0.30351759,\n",
       "       0.30849246, 0.31346734, 0.31844221, 0.32341709, 0.32839196,\n",
       "       0.33336683, 0.33834171, 0.34331658, 0.34829146, 0.35326633,\n",
       "       0.35824121, 0.36321608, 0.36819095, 0.37316583, 0.3781407 ,\n",
       "       0.38311558, 0.38809045, 0.39306533, 0.3980402 , 0.40301508,\n",
       "       0.40798995, 0.41296482, 0.4179397 , 0.42291457, 0.42788945,\n",
       "       0.43286432, 0.4378392 , 0.44281407, 0.44778894, 0.45276382,\n",
       "       0.45773869, 0.46271357, 0.46768844, 0.47266332, 0.47763819,\n",
       "       0.48261307, 0.48758794, 0.49256281, 0.49753769, 0.50251256,\n",
       "       0.50748744, 0.51246231, 0.51743719, 0.52241206, 0.52738693,\n",
       "       0.53236181, 0.53733668, 0.54231156, 0.54728643, 0.55226131,\n",
       "       0.55723618, 0.56221106, 0.56718593, 0.5721608 , 0.57713568,\n",
       "       0.58211055, 0.58708543, 0.5920603 , 0.59703518, 0.60201005,\n",
       "       0.60698492, 0.6119598 , 0.61693467, 0.62190955, 0.62688442,\n",
       "       0.6318593 , 0.63683417, 0.64180905, 0.64678392, 0.65175879,\n",
       "       0.65673367, 0.66170854, 0.66668342, 0.67165829, 0.67663317,\n",
       "       0.68160804, 0.68658291, 0.69155779, 0.69653266, 0.70150754,\n",
       "       0.70648241, 0.71145729, 0.71643216, 0.72140704, 0.72638191,\n",
       "       0.73135678, 0.73633166, 0.74130653, 0.74628141, 0.75125628,\n",
       "       0.75623116, 0.76120603, 0.7661809 , 0.77115578, 0.77613065,\n",
       "       0.78110553, 0.7860804 , 0.79105528, 0.79603015, 0.80100503,\n",
       "       0.8059799 , 0.81095477, 0.81592965, 0.82090452, 0.8258794 ,\n",
       "       0.83085427, 0.83582915, 0.84080402, 0.84577889, 0.85075377,\n",
       "       0.85572864, 0.86070352, 0.86567839, 0.87065327, 0.87562814,\n",
       "       0.88060302, 0.88557789, 0.89055276, 0.89552764, 0.90050251,\n",
       "       0.90547739, 0.91045226, 0.91542714, 0.92040201, 0.92537688,\n",
       "       0.93035176, 0.93532663, 0.94030151, 0.94527638, 0.95025126,\n",
       "       0.95522613, 0.96020101, 0.96517588, 0.97015075, 0.97512563,\n",
       "       0.9801005 , 0.98507538, 0.99005025, 0.99502513, 1.        ])"
      ]
     },
     "execution_count": 20,
     "metadata": {},
     "output_type": "execute_result"
    }
   ],
   "source": [
    "p "
   ]
  },
  {
   "cell_type": "code",
   "execution_count": 21,
   "metadata": {},
   "outputs": [],
   "source": [
    "y = [int(np.ceil(samplesize_confint_proportion(i, 0.01))) for i in p]"
   ]
  },
  {
   "cell_type": "code",
   "execution_count": 22,
   "metadata": {},
   "outputs": [
    {
     "data": {
      "text/plain": [
       "[381,\n",
       " 567,\n",
       " 752,\n",
       " 934,\n",
       " 1115,\n",
       " 1293,\n",
       " 1470,\n",
       " 1645,\n",
       " 1818,\n",
       " 1989,\n",
       " 2159,\n",
       " 2326,\n",
       " 2491,\n",
       " 2655,\n",
       " 2816,\n",
       " 2976,\n",
       " 3134,\n",
       " 3290,\n",
       " 3444,\n",
       " 3596,\n",
       " 3746,\n",
       " 3895,\n",
       " 4041,\n",
       " 4185,\n",
       " 4328,\n",
       " 4469,\n",
       " 4608,\n",
       " 4744,\n",
       " 4879,\n",
       " 5013,\n",
       " 5144,\n",
       " 5273,\n",
       " 5400,\n",
       " 5526,\n",
       " 5649,\n",
       " 5771,\n",
       " 5891,\n",
       " 6009,\n",
       " 6125,\n",
       " 6239,\n",
       " 6351,\n",
       " 6461,\n",
       " 6570,\n",
       " 6676,\n",
       " 6781,\n",
       " 6883,\n",
       " 6984,\n",
       " 7083,\n",
       " 7180,\n",
       " 7275,\n",
       " 7368,\n",
       " 7460,\n",
       " 7549,\n",
       " 7636,\n",
       " 7722,\n",
       " 7806,\n",
       " 7887,\n",
       " 7967,\n",
       " 8045,\n",
       " 8121,\n",
       " 8195,\n",
       " 8268,\n",
       " 8338,\n",
       " 8406,\n",
       " 8473,\n",
       " 8538,\n",
       " 8600,\n",
       " 8661,\n",
       " 8720,\n",
       " 8777,\n",
       " 8832,\n",
       " 8885,\n",
       " 8937,\n",
       " 8986,\n",
       " 9034,\n",
       " 9079,\n",
       " 9123,\n",
       " 9165,\n",
       " 9205,\n",
       " 9243,\n",
       " 9279,\n",
       " 9313,\n",
       " 9345,\n",
       " 9376,\n",
       " 9404,\n",
       " 9431,\n",
       " 9456,\n",
       " 9479,\n",
       " 9499,\n",
       " 9518,\n",
       " 9536,\n",
       " 9551,\n",
       " 9564,\n",
       " 9575,\n",
       " 9585,\n",
       " 9593,\n",
       " 9598,\n",
       " 9602,\n",
       " 9604,\n",
       " 9604,\n",
       " 9602,\n",
       " 9598,\n",
       " 9592,\n",
       " 9585,\n",
       " 9575,\n",
       " 9564,\n",
       " 9551,\n",
       " 9535,\n",
       " 9518,\n",
       " 9499,\n",
       " 9478,\n",
       " 9455,\n",
       " 9431,\n",
       " 9404,\n",
       " 9376,\n",
       " 9345,\n",
       " 9313,\n",
       " 9279,\n",
       " 9242,\n",
       " 9204,\n",
       " 9164,\n",
       " 9123,\n",
       " 9079,\n",
       " 9033,\n",
       " 8986,\n",
       " 8936,\n",
       " 8885,\n",
       " 8832,\n",
       " 8776,\n",
       " 8719,\n",
       " 8660,\n",
       " 8600,\n",
       " 8537,\n",
       " 8472,\n",
       " 8406,\n",
       " 8337,\n",
       " 8267,\n",
       " 8195,\n",
       " 8120,\n",
       " 8044,\n",
       " 7966,\n",
       " 7886,\n",
       " 7805,\n",
       " 7721,\n",
       " 7635,\n",
       " 7548,\n",
       " 7459,\n",
       " 7367,\n",
       " 7274,\n",
       " 7179,\n",
       " 7082,\n",
       " 6983,\n",
       " 6882,\n",
       " 6780,\n",
       " 6675,\n",
       " 6569,\n",
       " 6460,\n",
       " 6350,\n",
       " 6238,\n",
       " 6124,\n",
       " 6008,\n",
       " 5890,\n",
       " 5770,\n",
       " 5648,\n",
       " 5525,\n",
       " 5399,\n",
       " 5272,\n",
       " 5142,\n",
       " 5011,\n",
       " 4878,\n",
       " 4743,\n",
       " 4606,\n",
       " 4467,\n",
       " 4327,\n",
       " 4184,\n",
       " 4039,\n",
       " 3893,\n",
       " 3745,\n",
       " 3594,\n",
       " 3442,\n",
       " 3288,\n",
       " 3132,\n",
       " 2975,\n",
       " 2815,\n",
       " 2653,\n",
       " 2490,\n",
       " 2324,\n",
       " 2157,\n",
       " 1988,\n",
       " 1817,\n",
       " 1643,\n",
       " 1469,\n",
       " 1292,\n",
       " 1113,\n",
       " 932,\n",
       " 750,\n",
       " 565,\n",
       " 379,\n",
       " 191,\n",
       " 0]"
      ]
     },
     "execution_count": 22,
     "metadata": {},
     "output_type": "execute_result"
    }
   ],
   "source": [
    "y"
   ]
  },
  {
   "cell_type": "code",
   "execution_count": 23,
   "metadata": {},
   "outputs": [],
   "source": [
    "import matplotlib.pyplot as plt"
   ]
  },
  {
   "cell_type": "code",
   "execution_count": 24,
   "metadata": {},
   "outputs": [
    {
     "data": {
      "text/plain": [
       "[<matplotlib.lines.Line2D at 0x29ebb7d2c40>]"
      ]
     },
     "execution_count": 24,
     "metadata": {},
     "output_type": "execute_result"
    },
    {
     "data": {
      "image/png": "[encoded data removed]",
      "text/plain": [
       "<Figure size 432x288 with 1 Axes>"
      ]
     },
     "metadata": {
      "needs_background": "light"
     },
     "output_type": "display_data"
    }
   ],
   "source": [
    "plt.plot(p, y)"
   ]
  },
  {
   "cell_type": "code",
   "execution_count": 25,
   "metadata": {},
   "outputs": [
    {
     "data": {
      "text/plain": [
       "9604"
      ]
     },
     "execution_count": 25,
     "metadata": {},
     "output_type": "execute_result"
    }
   ],
   "source": [
    "max(y)"
   ]
  },
  {
   "cell_type": "code",
   "execution_count": 26,
   "metadata": {},
   "outputs": [],
   "source": [
    "import scipy.stats as sts\n",
    "def my_proportion_confint(count, nobs, alpha=0.05, method='normal'):\n",
    "    q_ = count * 1. / nobs\n",
    "    alpha_2 = 0.5 * alpha\n",
    "    std_ = np.sqrt(q_ * (1 - q_) / nobs)\n",
    "    dist = sts.norm.isf(alpha / 2.) * std_\n",
    "    ci_low = q_ - dist\n",
    "    ci_upp = q_ + dist\n",
    "    return ci_low, ci_upp"
   ]
  },
  {
   "cell_type": "code",
   "execution_count": 27,
   "metadata": {},
   "outputs": [
    {
     "data": {
      "text/plain": [
       "-0.0188"
      ]
     },
     "execution_count": 27,
     "metadata": {},
     "output_type": "execute_result"
    }
   ],
   "source": [
    "my_proportion_confint(1,50)[0].round(4)"
   ]
  },
  {
   "cell_type": "code",
   "execution_count": 28,
   "metadata": {},
   "outputs": [
    {
     "data": {
      "text/plain": [
       "2.9677379253417944"
      ]
     },
     "execution_count": 28,
     "metadata": {},
     "output_type": "execute_result"
    }
   ],
   "source": [
    "sts.norm.ppf(1 - 0.003/2)"
   ]
  },
  {
   "cell_type": "code",
   "execution_count": 1,
   "metadata": {},
   "outputs": [
    {
     "data": {
      "text/plain": [
       "0.0030000000000000027"
      ]
     },
     "execution_count": 1,
     "metadata": {},
     "output_type": "execute_result"
    }
   ],
   "source": [
    "1 - 0.997"
   ]
  },
  {
   "cell_type": "code",
   "execution_count": 34,
   "metadata": {},
   "outputs": [
    {
     "data": {
      "text/plain": [
       "0.0077"
      ]
     },
     "execution_count": 34,
     "metadata": {},
     "output_type": "execute_result"
    }
   ],
   "source": [
    "np.round(189/11034 -104/11037, 4)"
   ]
  },
  {
   "cell_type": "code",
   "execution_count": null,
   "metadata": {},
   "outputs": [],
   "source": []
  }
 ],
 "metadata": {
  "kernelspec": {
   "display_name": "Python 3",
   "language": "python",
   "name": "python3"
  },
  "language_info": {
   "codemirror_mode": {
    "name": "ipython",
    "version": 3
   },
   "file_extension": ".py",
   "mimetype": "text/x-python",
   "name": "python",
   "nbconvert_exporter": "python",
   "pygments_lexer": "ipython3",
   "version": "3.8.6"
  }
 },
 "nbformat": 4,
 "nbformat_minor": 1
}
